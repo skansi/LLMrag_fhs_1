{
 "cells": [
  {
   "cell_type": "markdown",
   "id": "9f787901",
   "metadata": {},
   "source": [
    "## FHS_chatbot\n",
    "\n",
    "Developmental files of the FHS chatbot.\n",
    "\n",
    "v0.1 = fully functional pipeline with RAG, with one pdf paper, \"Process ontology\""
   ]
  },
  {
   "cell_type": "code",
   "execution_count": 1,
   "id": "49f90a34",
   "metadata": {},
   "outputs": [],
   "source": [
    "user_in = \"Test\" \n",
    "# for now this is just text, but needs to accept pdf (converted/ocr) and jpg (ocr? or multimodal)\n",
    "\n",
    "def sanitize(user_in):\n",
    "    sane_in = user_in\n",
    "    return sane_in\n",
    "\n",
    "def guarded(sane_in):\n",
    "    guard_in = sane_in\n",
    "    return guard_in"
   ]
  },
  {
   "cell_type": "code",
   "execution_count": null,
   "id": "96b47dba",
   "metadata": {},
   "outputs": [],
   "source": []
  }
 ],
 "metadata": {
  "kernelspec": {
   "display_name": "Python 3 (ipykernel)",
   "language": "python",
   "name": "python3"
  },
  "language_info": {
   "codemirror_mode": {
    "name": "ipython",
    "version": 3
   },
   "file_extension": ".py",
   "mimetype": "text/x-python",
   "name": "python",
   "nbconvert_exporter": "python",
   "pygments_lexer": "ipython3",
   "version": "3.9.13"
  }
 },
 "nbformat": 4,
 "nbformat_minor": 5
}
